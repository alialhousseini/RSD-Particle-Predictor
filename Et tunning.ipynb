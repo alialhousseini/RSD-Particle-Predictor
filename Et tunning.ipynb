{
 "cells": [
  {
   "cell_type": "code",
   "execution_count": 1,
   "id": "2275dca6",
   "metadata": {
    "_cell_guid": "b1076dfc-b9ad-4769-8c92-a6c4dae69d19",
    "_uuid": "8f2839f25d086af736a60e9eeb907d3b93b6e0e5",
    "execution": {
     "iopub.execute_input": "2024-01-25T17:20:34.607492Z",
     "iopub.status.busy": "2024-01-25T17:20:34.606479Z",
     "iopub.status.idle": "2024-01-25T17:20:36.974653Z",
     "shell.execute_reply": "2024-01-25T17:20:36.973409Z"
    },
    "papermill": {
     "duration": 2.375944,
     "end_time": "2024-01-25T17:20:36.977480",
     "exception": false,
     "start_time": "2024-01-25T17:20:34.601536",
     "status": "completed"
    },
    "tags": []
   },
   "outputs": [],
   "source": [
    "import pandas as pd\n",
    "import numpy as np\n",
    "import matplotlib.pyplot as plt\n",
    "from sklearn.model_selection import train_test_split, GridSearchCV, ShuffleSplit\n",
    "from sklearn.ensemble import ExtraTreesRegressor\n",
    "from sklearn.multioutput import MultiOutputRegressor\n",
    "from sklearn.metrics import make_scorer"
   ]
  },
  {
   "cell_type": "code",
   "execution_count": 2,
   "id": "288e2ec5",
   "metadata": {
    "execution": {
     "iopub.execute_input": "2024-01-25T17:20:36.986141Z",
     "iopub.status.busy": "2024-01-25T17:20:36.985479Z",
     "iopub.status.idle": "2024-01-25T17:20:36.991722Z",
     "shell.execute_reply": "2024-01-25T17:20:36.990017Z"
    },
    "papermill": {
     "duration": 0.013584,
     "end_time": "2024-01-25T17:20:36.994782",
     "exception": false,
     "start_time": "2024-01-25T17:20:36.981198",
     "status": "completed"
    },
    "tags": []
   },
   "outputs": [],
   "source": [
    "path_eval = \"/kaggle/input/dataprojet/evaluation.csv\"\n",
    "path_clean = \"/kaggle/input/df-no-out-norms/development_noNoise_noRMS_noOutliers.csv\""
   ]
  },
  {
   "cell_type": "code",
   "execution_count": 3,
   "id": "9c8361a2",
   "metadata": {
    "execution": {
     "iopub.execute_input": "2024-01-25T17:20:37.002362Z",
     "iopub.status.busy": "2024-01-25T17:20:37.002011Z",
     "iopub.status.idle": "2024-01-25T17:20:37.011725Z",
     "shell.execute_reply": "2024-01-25T17:20:37.010122Z"
    },
    "papermill": {
     "duration": 0.016961,
     "end_time": "2024-01-25T17:20:37.014687",
     "exception": false,
     "start_time": "2024-01-25T17:20:36.997726",
     "status": "completed"
    },
    "tags": []
   },
   "outputs": [],
   "source": [
    "def prediction(eval_path, results_path, model):\n",
    "    df_test = pd.read_csv(eval_path)\n",
    "    ## Remove noise columns\n",
    "    ix = 0,7,12,15,16,17\n",
    "    noise = [f\"rms[{i}]\" for i in range(18)]\n",
    "    noise += [f\"pmax[{i}]\" for i in ix]\n",
    "    noise += [f\"negpmax[{i}]\" for i in ix]\n",
    "    noise += [f\"tmax[{i}]\" for i in ix]\n",
    "    noise += [f\"area[{i}]\" for i in ix]\n",
    "    df_test = df_test.drop(columns = noise)\n",
    "    y_pred_eval = model.predict(df_test.drop(columns = [\"Id\"]))\n",
    "    df_test[[\"x\",\"y\"]] =  y_pred_eval\n",
    "    df_test['Predicted'] = df_test['x'].astype(str) + '|' + df_test['y'].astype(str)\n",
    "    df_test[['Id', 'Predicted']].to_csv(results_path, index = False)"
   ]
  },
  {
   "cell_type": "code",
   "execution_count": 4,
   "id": "db105ee7",
   "metadata": {
    "execution": {
     "iopub.execute_input": "2024-01-25T17:20:37.023686Z",
     "iopub.status.busy": "2024-01-25T17:20:37.023258Z",
     "iopub.status.idle": "2024-01-25T17:20:37.029876Z",
     "shell.execute_reply": "2024-01-25T17:20:37.028466Z"
    },
    "papermill": {
     "duration": 0.014167,
     "end_time": "2024-01-25T17:20:37.032280",
     "exception": false,
     "start_time": "2024-01-25T17:20:37.018113",
     "status": "completed"
    },
    "tags": []
   },
   "outputs": [],
   "source": [
    "## Metric to be used to evaluate the performances of models \n",
    "def distance(y_true, y_pred):\n",
    "    n = len(y_true)\n",
    "    d = np.sum(np.sqrt(np.sum((y_true - y_pred)**2, axis=1))) / n\n",
    "    return d\n",
    "scorer = make_scorer(distance, greater_is_better=False)"
   ]
  },
  {
   "cell_type": "code",
   "execution_count": 5,
   "id": "bef5ee42",
   "metadata": {
    "execution": {
     "iopub.execute_input": "2024-01-25T17:20:37.040708Z",
     "iopub.status.busy": "2024-01-25T17:20:37.039458Z",
     "iopub.status.idle": "2024-01-25T17:20:37.050308Z",
     "shell.execute_reply": "2024-01-25T17:20:37.048458Z"
    },
    "papermill": {
     "duration": 0.017923,
     "end_time": "2024-01-25T17:20:37.053215",
     "exception": false,
     "start_time": "2024-01-25T17:20:37.035292",
     "status": "completed"
    },
    "tags": []
   },
   "outputs": [],
   "source": [
    "def multi_pipeline_train(df_path, model, tuning_params=None, train_size=0.7):\n",
    "    # Load the data\n",
    "    df = pd.read_csv(df_path)\n",
    "    np.random.seed(124)\n",
    "    print(\"Start performing a hypeparameter Tunning for multi output regresor using ET Model\")\n",
    "    ## Split the dataset\n",
    "    X = df.drop(columns=[\"x\", \"y\"])\n",
    "    y = df[[\"x\", \"y\"]]\n",
    "    X_train, X_test, y_train, y_test = train_test_split(X, y, train_size=train_size, random_state=124, shuffle = True)\n",
    "\n",
    "    print(\"Data splited\")\n",
    "    # Multi-output regressor without hyperparameter tuning\n",
    "    if tuning_params is None:\n",
    "        print(\"Trainig the base model\")\n",
    "        multi_output_reg = MultiOutputRegressor(model)\n",
    "        multi_output_reg.fit(X_train, y_train)\n",
    "        y_pred = multi_output_reg.predict(X_test)\n",
    "        distance_metric = distance(y_test, y_pred)\n",
    "        print(f\"Base Multi-output regressor using ET distance on test dataset: {distance_metric}\")\n",
    "        return multi_output_reg\n",
    "    # Multi-output regressor with hyperparameter tuning\n",
    "    else:\n",
    "        print(\"Hyperparamter Tunning Performing start\")\n",
    "        multi_output_reg = MultiOutputRegressor(model)\n",
    "        cvparam = ShuffleSplit(test_size=0.3, n_splits=1, random_state=124)\n",
    "        grid_search = GridSearchCV(estimator = multi_output_reg, param_grid=tuning_params, cv=cvparam,\n",
    "                                   scoring=scorer, n_jobs=1, verbose = 4)\n",
    "        grid_search.fit(X, y)\n",
    "        best_model = grid_search.best_estimator_\n",
    "        #distance_metric_tuned = distance(y_test, y_pred_best)\n",
    "        #print(f\"Tuned Multi-output regressor using ET distance on test dataset: {distance_metric_tuned}\")\n",
    "        print(\"Best Hyperparameters found:\", grid_search.best_params_)\n",
    "        return best_model, grid_search.best_params_"
   ]
  },
  {
   "cell_type": "code",
   "execution_count": 6,
   "id": "6791b309",
   "metadata": {
    "execution": {
     "iopub.execute_input": "2024-01-25T17:20:37.061097Z",
     "iopub.status.busy": "2024-01-25T17:20:37.060707Z",
     "iopub.status.idle": "2024-01-25T17:20:37.065406Z",
     "shell.execute_reply": "2024-01-25T17:20:37.064364Z"
    },
    "papermill": {
     "duration": 0.011228,
     "end_time": "2024-01-25T17:20:37.067517",
     "exception": false,
     "start_time": "2024-01-25T17:20:37.056289",
     "status": "completed"
    },
    "tags": []
   },
   "outputs": [],
   "source": [
    "et_regressor = ExtraTreesRegressor(random_state=42)\n",
    "#model_base = multi_pipeline_train(path_clean, et_regressor)"
   ]
  },
  {
   "cell_type": "code",
   "execution_count": 7,
   "id": "235ae643",
   "metadata": {
    "execution": {
     "iopub.execute_input": "2024-01-25T17:20:37.075592Z",
     "iopub.status.busy": "2024-01-25T17:20:37.075188Z",
     "iopub.status.idle": "2024-01-25T17:20:37.080817Z",
     "shell.execute_reply": "2024-01-25T17:20:37.079286Z"
    },
    "papermill": {
     "duration": 0.013181,
     "end_time": "2024-01-25T17:20:37.083704",
     "exception": false,
     "start_time": "2024-01-25T17:20:37.070523",
     "status": "completed"
    },
    "tags": []
   },
   "outputs": [],
   "source": [
    "#result_path = \"/kaggle/working/et_base_eval.csv\"\n",
    "#prediction(path_eval, result_path, model_base)\n",
    "#print(\"Base model evaluation saved on\", result_path)"
   ]
  },
  {
   "cell_type": "code",
   "execution_count": 8,
   "id": "d1994e1d",
   "metadata": {
    "_kg_hide-output": true,
    "execution": {
     "iopub.execute_input": "2024-01-25T17:20:37.092155Z",
     "iopub.status.busy": "2024-01-25T17:20:37.091755Z",
     "iopub.status.idle": "2024-01-26T00:52:35.269593Z",
     "shell.execute_reply": "2024-01-26T00:52:35.263479Z"
    },
    "papermill": {
     "duration": 27118.213732,
     "end_time": "2024-01-26T00:52:35.300915",
     "exception": false,
     "start_time": "2024-01-25T17:20:37.087183",
     "status": "completed"
    },
    "tags": []
   },
   "outputs": [
    {
     "name": "stdout",
     "output_type": "stream",
     "text": [
      "Start performing a hypeparameter Tunning for multi output regresor using ET Model\n",
      "Data splited\n",
      "Hyperparamter Tunning Performing start\n",
      "Fitting 1 folds for each of 9 candidates, totalling 9 fits\n",
      "[CV 1/1] END estimator__max_depth=None, estimator__n_estimators=200;, score=-4.205 total time=19.6min\n",
      "[CV 1/1] END estimator__max_depth=None, estimator__n_estimators=300;, score=-4.193 total time=29.6min\n",
      "[CV 1/1] END estimator__max_depth=None, estimator__n_estimators=800;, score=-4.181 total time=83.4min\n",
      "[CV 1/1] END estimator__max_depth=15, estimator__n_estimators=200;, score=-4.943 total time=14.5min\n",
      "[CV 1/1] END estimator__max_depth=15, estimator__n_estimators=300;, score=-4.935 total time=20.4min\n",
      "[CV 1/1] END estimator__max_depth=15, estimator__n_estimators=800;, score=-4.942 total time=53.1min\n",
      "[CV 1/1] END estimator__max_depth=30, estimator__n_estimators=200;, score=-4.204 total time=21.5min\n",
      "[CV 1/1] END estimator__max_depth=30, estimator__n_estimators=300;, score=-4.193 total time=32.2min\n",
      "[CV 1/1] END estimator__max_depth=30, estimator__n_estimators=800;, score=-4.181 total time=84.4min\n",
      "Best Hyperparameters found: {'estimator__max_depth': None, 'estimator__n_estimators': 800}\n"
     ]
    }
   ],
   "source": [
    "#Extra Trees Regressor and hyperparameter tuning\n",
    "et_regressor = ExtraTreesRegressor(random_state=42)\n",
    "et_param_grid = {\n",
    "    'estimator__n_estimators': [200, 300, 800],\n",
    "    'estimator__max_depth': [None, 15, 30],\n",
    "}\n",
    "\n",
    "best_model_et, hyperparameters_et = multi_pipeline_train(path_clean, et_regressor, tuning_params=et_param_grid)"
   ]
  },
  {
   "cell_type": "code",
   "execution_count": 9,
   "id": "a6b321b0",
   "metadata": {
    "execution": {
     "iopub.execute_input": "2024-01-26T00:52:35.317538Z",
     "iopub.status.busy": "2024-01-26T00:52:35.316978Z",
     "iopub.status.idle": "2024-01-26T00:55:12.662995Z",
     "shell.execute_reply": "2024-01-26T00:55:12.661548Z"
    },
    "papermill": {
     "duration": 157.364296,
     "end_time": "2024-01-26T00:55:12.669584",
     "exception": false,
     "start_time": "2024-01-26T00:52:35.305288",
     "status": "completed"
    },
    "tags": []
   },
   "outputs": [
    {
     "name": "stdout",
     "output_type": "stream",
     "text": [
      "Base model evaluation saved on /kaggle/working/et_best_eval.csv\n"
     ]
    }
   ],
   "source": [
    "result_path = \"/kaggle/working/et_best_eval.csv\"\n",
    "prediction(path_eval, result_path, best_model_et)\n",
    "print(\"Base model evaluation saved on\", result_path)"
   ]
  }
 ],
 "metadata": {
  "kaggle": {
   "accelerator": "none",
   "dataSources": [
    {
     "datasetId": 4296863,
     "sourceId": 7391419,
     "sourceType": "datasetVersion"
    },
    {
     "datasetId": 4326069,
     "sourceId": 7433727,
     "sourceType": "datasetVersion"
    },
    {
     "datasetId": 4327700,
     "sourceId": 7436028,
     "sourceType": "datasetVersion"
    }
   ],
   "isGpuEnabled": false,
   "isInternetEnabled": true,
   "language": "python",
   "sourceType": "notebook"
  },
  "kernelspec": {
   "display_name": "Python 3",
   "language": "python",
   "name": "python3"
  },
  "language_info": {
   "codemirror_mode": {
    "name": "ipython",
    "version": 3
   },
   "file_extension": ".py",
   "mimetype": "text/x-python",
   "name": "python",
   "nbconvert_exporter": "python",
   "pygments_lexer": "ipython3",
   "version": "3.10.12"
  },
  "papermill": {
   "default_parameters": {},
   "duration": 27283.949514,
   "end_time": "2024-01-26T00:55:15.607858",
   "environment_variables": {},
   "exception": null,
   "input_path": "__notebook__.ipynb",
   "output_path": "__notebook__.ipynb",
   "parameters": {},
   "start_time": "2024-01-25T17:20:31.658344",
   "version": "2.4.0"
  }
 },
 "nbformat": 4,
 "nbformat_minor": 5
}
