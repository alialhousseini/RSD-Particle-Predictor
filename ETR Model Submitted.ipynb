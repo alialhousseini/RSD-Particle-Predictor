{
 "cells": [
  {
   "cell_type": "code",
   "execution_count": 1,
   "id": "9d1af014",
   "metadata": {
    "_cell_guid": "b1076dfc-b9ad-4769-8c92-a6c4dae69d19",
    "_uuid": "8f2839f25d086af736a60e9eeb907d3b93b6e0e5",
    "execution": {
     "iopub.execute_input": "2024-01-20T15:03:47.888256Z",
     "iopub.status.busy": "2024-01-20T15:03:47.887820Z",
     "iopub.status.idle": "2024-01-20T15:03:59.295303Z",
     "shell.execute_reply": "2024-01-20T15:03:59.294015Z"
    },
    "papermill": {
     "duration": 11.4185,
     "end_time": "2024-01-20T15:03:59.298803",
     "exception": false,
     "start_time": "2024-01-20T15:03:47.880303",
     "status": "completed"
    },
    "tags": []
   },
   "outputs": [],
   "source": [
    "# This Python 3 environment comes with many helpful analytics libraries installed\n",
    "# It is defined by the kaggle/python Docker image: https://github.com/kaggle/docker-python\n",
    "# For example, here's several helpful packages to load\n",
    "\n",
    "import numpy as np # linear algebra\n",
    "import pandas as pd # data processing, CSV file I/O (e.g. pd.read_csv)\n",
    "\n",
    "# Input data files are available in the read-only \"../input/\" directory\n",
    "# For example, running this (by clicking run or pressing Shift+Enter) will list all files under the input directory\n",
    "\n",
    "import os\n",
    "df = pd.read_csv('/kaggle/input/nonoiseoutliersrms/development_noNoise_noRMS_noOutliers.csv')\n",
    "\n",
    "# You can write up to 20GB to the current directory (/kaggle/working/) that gets preserved as output when you create a version using \"Save & Run All\" \n",
    "# You can also write temporary files to /kaggle/temp/, but they won't be saved outside of the current session"
   ]
  },
  {
   "cell_type": "code",
   "execution_count": 2,
   "id": "1528e2a4",
   "metadata": {
    "execution": {
     "iopub.execute_input": "2024-01-20T15:03:59.308593Z",
     "iopub.status.busy": "2024-01-20T15:03:59.308168Z",
     "iopub.status.idle": "2024-01-20T15:03:59.314692Z",
     "shell.execute_reply": "2024-01-20T15:03:59.313502Z"
    },
    "papermill": {
     "duration": 0.014483,
     "end_time": "2024-01-20T15:03:59.317495",
     "exception": false,
     "start_time": "2024-01-20T15:03:59.303012",
     "status": "completed"
    },
    "tags": []
   },
   "outputs": [],
   "source": [
    "\n",
    "def euclidean_distance_loss(y_true, y_pred):\n",
    "    squared_difference = np.square(y_true - y_pred)\n",
    "    summation = np.sum(squared_difference, axis=0)\n",
    "    sqrt_diff = np.sqrt(summation)\n",
    "    summation2 = np.sum(sqrt_diff, axis=0)\n",
    "    return summation2/squared_difference.shape[1]\n"
   ]
  },
  {
   "cell_type": "code",
   "execution_count": 3,
   "id": "a793c7c7",
   "metadata": {
    "execution": {
     "iopub.execute_input": "2024-01-20T15:03:59.326971Z",
     "iopub.status.busy": "2024-01-20T15:03:59.326534Z",
     "iopub.status.idle": "2024-01-20T16:56:01.067564Z",
     "shell.execute_reply": "2024-01-20T16:56:01.065941Z"
    },
    "papermill": {
     "duration": 6721.753603,
     "end_time": "2024-01-20T16:56:01.074875",
     "exception": false,
     "start_time": "2024-01-20T15:03:59.321272",
     "status": "completed"
    },
    "tags": []
   },
   "outputs": [
    {
     "name": "stdout",
     "output_type": "stream",
     "text": [
      "Mean Squared Error (X): 10.115061535556707\n",
      "Mean Squared Error (Y): 14.47686018984684\n"
     ]
    }
   ],
   "source": [
    "from sklearn.model_selection import train_test_split\n",
    "from sklearn.ensemble import ExtraTreesRegressor\n",
    "from sklearn.metrics import mean_squared_error\n",
    "import numpy as np\n",
    "from sklearn.multioutput import MultiOutputRegressor\n",
    "\n",
    "# Sample data loading (replace with your dataset)\n",
    "dfx = df.drop(['y'],axis=1)\n",
    "dfy = df.drop(['x'],axis=1)\n",
    "dfx1 , dfx2 = dfx.drop(['x'], axis=1), dfx['x']\n",
    "dfy1 , dfy2 = dfy.drop(['y'], axis=1), dfy['y']\n",
    "\n",
    "\n",
    "# Split the dataset into training and testing sets\n",
    "X_train1, X_test1, y_train1, y_test1 = train_test_split(dfx1, dfx2, test_size=0.25, random_state=42)\n",
    "X_train2, X_test2, y_train2, y_test2 = train_test_split(dfy1, dfy2, test_size=0.25, random_state=42)\n",
    "\n",
    "\n",
    "\n",
    "# Initialize the Extra Trees Regressor\n",
    "# Assuming you have a multi-output regression problem, ExtraTreesRegressor supports this by default.\n",
    "# You can adjust n_estimators and other parameters as needed.\n",
    "etrX = ExtraTreesRegressor(n_estimators=900, max_depth=None, random_state=42)\n",
    "etrY = ExtraTreesRegressor(n_estimators=900, max_depth=None, random_state=42)\n",
    "\n",
    "\n",
    "# Train the model\n",
    "etrX.fit(X_train1, y_train1)\n",
    "etrY.fit(X_train2, y_train2)\n",
    "\n",
    "# Predict on the test set\n",
    "prdX = etrX.predict(X_test1)\n",
    "prdY = etrY.predict(X_test2)\n",
    "\n",
    "# Evaluate the model\n",
    "mseX = mean_squared_error(y_test1, prdX)\n",
    "print(f'Mean Squared Error (X): {mseX}')\n",
    "\n",
    "mseY = mean_squared_error(y_test2, prdY)\n",
    "print(f'Mean Squared Error (Y): {mseY}')\n",
    "\n",
    "# print(f'Eucld:{euclidean_distance_loss(y_test1,prdX)}')\n",
    "# print(f'Eucld:{euclidean_distance_loss(y_test2,prdY)}')\n",
    "# If you have multiple outputs, mse will return an array of errors for each output.\n"
   ]
  },
  {
   "cell_type": "code",
   "execution_count": 4,
   "id": "92df714f",
   "metadata": {
    "execution": {
     "iopub.execute_input": "2024-01-20T16:56:01.085205Z",
     "iopub.status.busy": "2024-01-20T16:56:01.084671Z",
     "iopub.status.idle": "2024-01-20T16:56:07.106027Z",
     "shell.execute_reply": "2024-01-20T16:56:07.104560Z"
    },
    "papermill": {
     "duration": 6.03106,
     "end_time": "2024-01-20T16:56:07.109537",
     "exception": false,
     "start_time": "2024-01-20T16:56:01.078477",
     "status": "completed"
    },
    "tags": []
   },
   "outputs": [],
   "source": [
    "df_test = pd.read_csv('/kaggle/input/evaluation/evaluation.csv')\n"
   ]
  },
  {
   "cell_type": "code",
   "execution_count": 5,
   "id": "52cdaa12",
   "metadata": {
    "execution": {
     "iopub.execute_input": "2024-01-20T16:56:07.120482Z",
     "iopub.status.busy": "2024-01-20T16:56:07.119659Z",
     "iopub.status.idle": "2024-01-20T16:56:07.764250Z",
     "shell.execute_reply": "2024-01-20T16:56:07.762855Z"
    },
    "papermill": {
     "duration": 0.654121,
     "end_time": "2024-01-20T16:56:07.767839",
     "exception": false,
     "start_time": "2024-01-20T16:56:07.113718",
     "status": "completed"
    },
    "tags": []
   },
   "outputs": [],
   "source": [
    "ix = 0,7,12,15,16,17\n",
    "noise = [f\"rms[{i}]\" for i in range(18)]\n",
    "noise += [f\"pmax[{i}]\" for i in ix]\n",
    "noise += [f\"negpmax[{i}]\" for i in ix]\n",
    "noise += [f\"tmax[{i}]\" for i in ix]\n",
    "noise += [f\"area[{i}]\" for i in ix]\n",
    "df_test = df_test.drop(columns = noise)"
   ]
  },
  {
   "cell_type": "code",
   "execution_count": 6,
   "id": "07ac6a0f",
   "metadata": {
    "execution": {
     "iopub.execute_input": "2024-01-20T16:56:07.778269Z",
     "iopub.status.busy": "2024-01-20T16:56:07.777770Z",
     "iopub.status.idle": "2024-01-20T16:58:47.892863Z",
     "shell.execute_reply": "2024-01-20T16:58:47.891295Z"
    },
    "papermill": {
     "duration": 160.124423,
     "end_time": "2024-01-20T16:58:47.896444",
     "exception": false,
     "start_time": "2024-01-20T16:56:07.772021",
     "status": "completed"
    },
    "tags": []
   },
   "outputs": [],
   "source": [
    "ids = df_test['Id']\n",
    "features_df = df_test.drop(columns=['Id'])\n",
    "predX = etrX.predict(features_df)\n",
    "predY = etrY.predict(features_df)\n",
    "predictions_flattenedX = predX.flatten()\n",
    "predictions_flattenedY = predY.flatten()\n",
    "combined_predictions = [f\"{x}|{y}\" for x, y in zip(predictions_flattenedX, predictions_flattenedY)]\n",
    "result_df = pd.DataFrame({'Id': ids, 'Predicted': combined_predictions})\n",
    "result_df.to_csv('evalsu.csv', index=False)"
   ]
  },
  {
   "cell_type": "raw",
   "id": "c72dc277",
   "metadata": {
    "papermill": {
     "duration": 0.003992,
     "end_time": "2024-01-20T16:58:47.904646",
     "exception": false,
     "start_time": "2024-01-20T16:58:47.900654",
     "status": "completed"
    },
    "tags": []
   },
   "source": []
  }
 ],
 "metadata": {
  "kaggle": {
   "accelerator": "none",
   "dataSources": [
    {
     "datasetId": 4327809,
     "sourceId": 7436187,
     "sourceType": "datasetVersion"
    },
    {
     "datasetId": 4328336,
     "sourceId": 7436944,
     "sourceType": "datasetVersion"
    }
   ],
   "dockerImageVersionId": 30635,
   "isGpuEnabled": false,
   "isInternetEnabled": true,
   "language": "python",
   "sourceType": "notebook"
  },
  "kernelspec": {
   "display_name": "Python 3",
   "language": "python",
   "name": "python3"
  },
  "language_info": {
   "codemirror_mode": {
    "name": "ipython",
    "version": 3
   },
   "file_extension": ".py",
   "mimetype": "text/x-python",
   "name": "python",
   "nbconvert_exporter": "python",
   "pygments_lexer": "ipython3",
   "version": "3.10.12"
  },
  "papermill": {
   "default_parameters": {},
   "duration": 6906.582167,
   "end_time": "2024-01-20T16:58:50.682752",
   "environment_variables": {},
   "exception": null,
   "input_path": "__notebook__.ipynb",
   "output_path": "__notebook__.ipynb",
   "parameters": {},
   "start_time": "2024-01-20T15:03:44.100585",
   "version": "2.4.0"
  }
 },
 "nbformat": 4,
 "nbformat_minor": 5
}
