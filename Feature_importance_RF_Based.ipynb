{
  "cells": [
    {
      "cell_type": "code",
      "execution_count": null,
      "metadata": {
        "id": "0ZL0K-DCoqyc"
      },
      "outputs": [],
      "source": [
        "import numpy as np\n",
        "import pandas as pd\n",
        "import matplotlib.pyplot as plt\n",
        "import seaborn as sns\n",
        "from sklearn.model_selection import train_test_split\n",
        "from sklearn.ensemble import RandomForestRegressor\n",
        "from sklearn.multioutput import MultiOutputRegressor"
      ]
    },
    {
      "cell_type": "code",
      "execution_count": null,
      "metadata": {
        "colab": {
          "base_uri": "https://localhost:8080/"
        },
        "id": "AarrBmV8oyQL",
        "outputId": "19cc6d30-cfe8-43e4-bba5-77a0dacfc8fc"
      },
      "outputs": [
        {
          "name": "stdout",
          "output_type": "stream",
          "text": [
            "Mounted at /content/drive\n"
          ]
        }
      ],
      "source": [
        "from google.colab import drive\n",
        "drive.mount('/content/drive')"
      ]
    },
    {
      "cell_type": "code",
      "execution_count": null,
      "metadata": {
        "id": "0sjoOxJeo1v8"
      },
      "outputs": [],
      "source": [
        "df = pd.read_csv('/content/drive/MyDrive/development.csv')"
      ]
    },
    {
      "cell_type": "code",
      "source": [
        "rms = [f\"rms[{i}]\" for i in range(18)]\n",
        "pmax = [f\"pmax[{i}]\" for i in range(18)]\n",
        "negpmax = [f\"negpmax[{i}]\" for i in range(18)]\n",
        "tmax = [f\"tmax[{i}]\" for i in range(18)]\n",
        "area = [f\"area[{i}]\" for i in range(18)]\n",
        "target = [\"x\", \"y\"]"
      ],
      "metadata": {
        "id": "-UgbjNVRhuu1"
      },
      "execution_count": null,
      "outputs": []
    },
    {
      "cell_type": "code",
      "execution_count": null,
      "metadata": {
        "id": "VV7NmM3Mr1L_"
      },
      "outputs": [],
      "source": [
        "## pmax\n",
        "X, y = df[pmax], df[target]\n",
        "X_train, X_test, y_train, y_test = train_test_split(X, y, test_size=.2, shuffle=True)\n",
        "regr_multirf = MultiOutputRegressor(RandomForestRegressor(n_estimators = 100))\n",
        "regr_multirf = regr_multirf.fit(X_train, y_train)"
      ]
    },
    {
      "cell_type": "code",
      "execution_count": null,
      "metadata": {
        "id": "UI9zsdoS0NAP"
      },
      "outputs": [],
      "source": [
        "est = regr_multirf.estimators_[0] # Feature importance for x\n",
        "feature_importances = pd.DataFrame(est.feature_importances_,\n",
        "                                   columns=['importance']).sort_values('importance')\n",
        "feature_importances.plot(kind = 'barh',title = \"Feature importance of pmax for predicting x\")"
      ]
    },
    {
      "cell_type": "code",
      "source": [
        "est = regr_multirf.estimators_[1]\n",
        "feature_importances = pd.DataFrame(est.feature_importances_,\n",
        "                                   columns=['importance']).sort_values('importance')\n",
        "feature_importances.plot(kind = 'barh', title = \"Feature importance of pmax for predicting y\")"
      ],
      "metadata": {
        "id": "93OX7FDLiBYv"
      },
      "execution_count": null,
      "outputs": []
    },
    {
      "cell_type": "code",
      "execution_count": null,
      "metadata": {
        "id": "3butD7ZU0PSS"
      },
      "outputs": [],
      "source": [
        "## negpmax\n",
        "X, y = df[negpmax], df[target]\n",
        "X_train, X_test, y_train, y_test = train_test_split(X, y, test_size=.2, shuffle=True)\n",
        "regr_multirf = MultiOutputRegressor(RandomForestRegressor(n_estimators = 100))\n",
        "regr_multirf = regr_multirf.fit(X_train, y_train)"
      ]
    },
    {
      "cell_type": "code",
      "execution_count": null,
      "metadata": {
        "id": "i1GVgFFZMjgV"
      },
      "outputs": [],
      "source": [
        "est = regr_multirf.estimators_[0]\n",
        "\n",
        "feature_importances = pd.DataFrame(est.feature_importances_,\n",
        "                                   columns=['importance']).sort_values('importance')\n",
        "feature_importances.plot(kind = 'barh', title = \"Feature importance of negpmax for predicting x\")"
      ]
    },
    {
      "cell_type": "code",
      "execution_count": null,
      "metadata": {
        "id": "HwsygI7dMnxT"
      },
      "outputs": [],
      "source": [
        "est = regr_multirf.estimators_[1]\n",
        "feature_importances = pd.DataFrame(est.feature_importances_,\n",
        "                                   columns=['importance']).sort_values('importance')\n",
        "feature_importances.plot(kind = 'barh',title = \"Feature importance of negpmax for predicting y\" )"
      ]
    },
    {
      "cell_type": "code",
      "execution_count": null,
      "metadata": {
        "id": "axBxsdC6Myxk"
      },
      "outputs": [],
      "source": [
        "## tmax\n",
        "X, y = df[tmax], df[target]\n",
        "X_train, X_test, y_train, y_test = train_test_split(X, y, test_size=.2, shuffle=True)\n",
        "regr_multirf = MultiOutputRegressor(RandomForestRegressor(n_estimators = 100))\n",
        "regr_multirf = regr_multirf.fit(X_train, y_train)"
      ]
    },
    {
      "cell_type": "code",
      "execution_count": null,
      "metadata": {
        "id": "me8PMttceZRF"
      },
      "outputs": [],
      "source": [
        "est = regr_multirf.estimators_[0]\n",
        "feature_importances = pd.DataFrame(est.feature_importances_,\n",
        "                                   columns=['importance']).sort_values('importance')\n",
        "feature_importances.plot(kind = 'barh', title = \"Feature importance of tmax for predicting x\")"
      ]
    },
    {
      "cell_type": "code",
      "execution_count": null,
      "metadata": {
        "id": "4yWLW7EUkl_k"
      },
      "outputs": [],
      "source": [
        "est = regr_multirf.estimators_[1]\n",
        "feature_importances = pd.DataFrame(est.feature_importances_,\n",
        "                                   columns=['importance']).sort_values('importance')\n",
        "feature_importances.plot(kind = 'barh', title = \"Feature importance of tmax for predicting y\")"
      ]
    },
    {
      "cell_type": "code",
      "execution_count": null,
      "metadata": {
        "id": "YjkIFtdRoi1i"
      },
      "outputs": [],
      "source": [
        "## Area\n",
        "X, y = df[area], df[target]\n",
        "X_train, X_test, y_train, y_test = train_test_split(X, y, test_size=.2, shuffle=True)\n",
        "regr_multirf = MultiOutputRegressor(RandomForestRegressor(n_estimators = 100))\n",
        "regr_multirf = regr_multirf.fit(X_train, y_train)"
      ]
    },
    {
      "cell_type": "code",
      "execution_count": null,
      "metadata": {
        "id": "ufRw-DJEptW5"
      },
      "outputs": [],
      "source": [
        "est = regr_multirf.estimators_[0]\n",
        "feature_importances = pd.DataFrame(est.feature_importances_,\n",
        "                                   columns=['importance']).sort_values('importance')\n",
        "feature_importances.plot(kind = 'barh', title = \"Feature importance of area for predicting x\")"
      ]
    },
    {
      "cell_type": "code",
      "execution_count": null,
      "metadata": {
        "id": "jMcMmOCwpzQx"
      },
      "outputs": [],
      "source": [
        "est = regr_multirf.estimators_[1]\n",
        "# get feature importances\n",
        "feature_importances = pd.DataFrame(est.feature_importances_,\n",
        "                                   columns=['importance']).sort_values('importance')\n",
        "feature_importances.plot(kind = 'barh', title = \"Feature importance of area for predicting y\")"
      ]
    },
    {
      "cell_type": "code",
      "execution_count": null,
      "metadata": {
        "colab": {
          "background_save": true
        },
        "id": "rQCeqHXtwmxS"
      },
      "outputs": [],
      "source": [
        "## rms\n",
        "X, y = df[rms], df[target]\n",
        "X_train, X_test, y_train, y_test = train_test_split(X, y, test_size=.2, shuffle=True)\n",
        "regr_multirf = MultiOutputRegressor(RandomForestRegressor(n_estimators = 100))\n",
        "regr_multirf = regr_multirf.fit(X_train, y_train)"
      ]
    },
    {
      "cell_type": "code",
      "execution_count": null,
      "metadata": {
        "id": "sCCPVlzNxByJ"
      },
      "outputs": [],
      "source": [
        "est = regr_multirf.estimators_[0]\n",
        "feature_importances = pd.DataFrame(est.feature_importances_,\n",
        "                                   columns=['importance']).sort_values('importance')\n",
        "feature_importances.plot(kind = 'barh', title = \"Feature importance of rms for predicting x\")"
      ]
    },
    {
      "cell_type": "code",
      "execution_count": null,
      "metadata": {
        "id": "q_WnYyPxxFha"
      },
      "outputs": [],
      "source": [
        "est = regr_multirf.estimators_[1]\n",
        "feature_importances = pd.DataFrame(est.feature_importances_,\n",
        "                                   columns=['importance']).sort_values('importance')\n",
        "feature_importances.plot(kind = 'barh', title = \"Feature importance of rms for predicitng y\")"
      ]
    }
  ],
  "metadata": {
    "accelerator": "GPU",
    "colab": {
      "provenance": []
    },
    "kernelspec": {
      "display_name": "Python 3",
      "name": "python3"
    },
    "language_info": {
      "name": "python"
    }
  },
  "nbformat": 4,
  "nbformat_minor": 0
}